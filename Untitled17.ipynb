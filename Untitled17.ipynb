{
  "cells": [
    {
      "cell_type": "markdown",
      "metadata": {
        "colab_type": "text",
        "id": "view-in-github"
      },
      "source": [
        "<a href=\"https://colab.research.google.com/github/Ijattttt/Hut/blob/main/Untitled17.ipynb\" target=\"_parent\"><img src=\"https://colab.research.google.com/assets/colab-badge.svg\" alt=\"Open In Colab\"/></a>"
      ]
    },
    {
      "cell_type": "code",
      "execution_count": 1,
      "metadata": {
        "id": "EBkfl8OtTvo6"
      },
      "outputs": [],
      "source": [
        "import tensorflow as tf\n",
        "\n",
        "import os, pathlib, warnings, urllib, shutil\n",
        "\n",
        "warnings.filterwarnings(\"ignore\")"
      ]
    },
    {
      "cell_type": "code",
      "execution_count": 2,
      "metadata": {
        "id": "hGKnfGvWUKri"
      },
      "outputs": [],
      "source": [
        "giturl = \"https://github.com/dicodingacademy/assets/releases/download/release/\"\n",
        "\n",
        "dataset = \"rockpaperscissors.zip\"\n",
        "\n",
        "urllib.request.urlretrieve(os.path.join(giturl, dataset), dataset)\n",
        "\n",
        "shutil.unpack_archive('rockpaperscissors.zip', '/content', 'zip')"
      ]
    },
    {
      "cell_type": "code",
      "execution_count": 3,
      "metadata": {
        "colab": {
          "base_uri": "https://localhost:8080/"
        },
        "id": "EL4iKT01UMwv",
        "outputId": "716d3afd-a148-4e33-a216-342277dd9e9d"
      },
      "outputs": [
        {
          "data": {
            "text/plain": [
              "['paper', 'scissors', 'rock']"
            ]
          },
          "execution_count": 3,
          "metadata": {},
          "output_type": "execute_result"
        }
      ],
      "source": [
        "root = \"/content/rockpaperscissors/rps-cv-images\"\n",
        "\n",
        "!rm /content/rockpaperscissors/rps-cv-images/README_rpc-cv-images.txt\n",
        "\n",
        "os.listdir(root)"
      ]
    },
    {
      "cell_type": "code",
      "execution_count": 4,
      "metadata": {
        "id": "A-CRkK--WHd4"
      },
      "outputs": [],
      "source": [
        "dictlist = {'rescale':1.0 / 255.0, 'fill_mode':'nearest', 'validation_split':0.3}\n",
        "\n",
        "dictlist['shear_range'] = 0.1\n",
        "\n",
        "dictlist['rotation_range'] = 10\n",
        "\n",
        "dictlist['horizontal_flip'] = True\n",
        "\n",
        "datagen = tf.keras.preprocessing.image.ImageDataGenerator(**dictlist)"
      ]
    },
    {
      "cell_type": "code",
      "execution_count": null,
      "metadata": {
        "id": "b-F1mgMaW1QT"
      },
      "outputs": [],
      "source": [
        "flowlist = {'target_size':(150, 150), 'batch_size':128, 'class_mode':'categorical'}\n",
        "\n",
        "train = datagen.flow_from_directory(root, subset='training', **flowlist)"
      ]
    },
    {
      "cell_type": "code",
      "execution_count": 6,
      "metadata": {
        "colab": {
          "base_uri": "https://localhost:8080/"
        },
        "id": "x6xQwiOtXI9J",
        "outputId": "d5feb043-9378-4aea-eaba-f7fba27c8b97"
      },
      "outputs": [
        {
          "data": {
            "text/plain": [
              "dict_keys(['paper', 'rock', 'scissors'])"
            ]
          },
          "execution_count": 6,
          "metadata": {},
          "output_type": "execute_result"
        }
      ],
      "source": [
        "train.class_indices.keys()"
      ]
    },
    {
      "cell_type": "code",
      "execution_count": null,
      "metadata": {
        "id": "rXNzCoBMXLyu"
      },
      "outputs": [],
      "source": [
        "dictlist = {'rescale':1.0 / 255.0, 'fill_mode':'nearest', 'validation_split':0.3}\n",
        "\n",
        "flowlist = {'target_size':(150, 150), 'batch_size':128, 'class_mode':'categorical'}\n",
        "\n",
        "test = datagen.flow_from_directory(root, subset='validation', **flowlist)"
      ]
    },
    {
      "cell_type": "code",
      "execution_count": null,
      "metadata": {
        "id": "6pY8SaDc3Rof"
      },
      "outputs": [],
      "source": [
        "from tensorflow.keras import layers, Sequential\n",
        "\n",
        "model = Sequential([\n",
        "\n",
        "  layers.Conv2D(32, (3, 3), activation=\"relu\", kernel_initializer=\"he_normal\", input_shape=(150, 150, 3)),\n",
        "  layers.BatchNormalization(),\n",
        "  layers.MaxPooling2D((2, 2)),\n",
        "\n",
        "  layers.Conv2D(64, (3, 3), activation=\"relu\", kernel_initializer=\"he_normal\"),\n",
        "  layers.BatchNormalization(),\n",
        "  layers.MaxPooling2D((2, 2)),\n",
        "\n",
        "  layers.Conv2D(128, (3, 3), activation=\"relu\", kernel_initializer=\"he_normal\"),\n",
        "  layers.BatchNormalization(),\n",
        "  layers.MaxPooling2D((2, 2)),\n",
        "\n",
        "  layers.GlobalAveragePooling2D(),\n",
        "  layers.Dropout(0.3),\n",
        "  layers.Dense(128, activation=\"relu\", kernel_initializer=\"he_normal\"),\n",
        "\n",
        "  layers.BatchNormalization(),\n",
        "  layers.Dropout(0.3),\n",
        "  layers.Dense(3, activation=\"softmax\")\n",
        "\n",
        "])"
      ]
    },
    {
      "cell_type": "code",
      "execution_count": null,
      "metadata": {},
      "outputs": [],
      "source": [
        "from tensorflow.keras import layers, Sequential\n",
        "\n",
        "model = Sequential([\n",
        "\n",
        "  layers.Conv2D(\n",
        "    32, (3, 3), \n",
        "    activation=\"relu\", \n",
        "    kernel_initializer=\"he_normal\", \n",
        "    input_shape=(150, 150, 3)\n",
        "  ),\n",
        "  layers.BatchNormalization(),\n",
        "  layers.MaxPooling2D((2, 2)),\n",
        "\n",
        "  layers.Conv2D(\n",
        "    64, (3, 3), \n",
        "    activation=\"relu\", \n",
        "    kernel_initializer=\"he_normal\"\n",
        "  ),\n",
        "  layers.BatchNormalization(),\n",
        "  layers.MaxPooling2D((2, 2)),\n",
        "\n",
        "  layers.Conv2D(\n",
        "    128, (3, 3), \n",
        "    activation=\"relu\", \n",
        "    kernel_initializer=\"he_normal\"\n",
        "  ),\n",
        "  layers.BatchNormalization(),\n",
        "  layers.MaxPooling2D((2, 2)),\n",
        "\n",
        "  layers.GlobalAveragePooling2D(),\n",
        "  layers.Dropout(0.3),\n",
        "  layers.Dense(128, activation=\"relu\", kernel_initializer=\"he_normal\"),\n",
        "\n",
        "  layers.BatchNormalization(),\n",
        "  layers.Dropout(0.3),\n",
        "  layers.Dense(3, activation=\"softmax\")\n",
        "\n",
        "])"
      ]
    },
    {
      "cell_type": "code",
      "execution_count": 9,
      "metadata": {
        "id": "X-ANOxsM4ame"
      },
      "outputs": [],
      "source": [
        "loss = \"sparse_categorical_crossentropy\"\n",
        "\n",
        "model.compile(optimizer='adam', loss=loss, metrics=['accuracy'])"
      ]
    }
  ],
  "metadata": {
    "colab": {
      "authorship_tag": "ABX9TyPgiFghhsZzwSoTLNeign1z",
      "include_colab_link": true,
      "provenance": []
    },
    "kernelspec": {
      "display_name": "Python 3",
      "name": "python3"
    },
    "language_info": {
      "name": "python"
    }
  },
  "nbformat": 4,
  "nbformat_minor": 0
}
